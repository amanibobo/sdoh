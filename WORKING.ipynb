{
 "cells": [
  {
   "cell_type": "code",
   "execution_count": 147,
   "id": "21e83fa2-5520-48fb-a439-6d6e79919d35",
   "metadata": {},
   "outputs": [
    {
     "name": "stdout",
     "output_type": "stream",
     "text": [
      "Requirement already satisfied: Faker in c:\\users\\abobo8\\appdata\\local\\miniconda3\\envs\\myenv\\lib\\site-packages (26.0.0)\n",
      "Requirement already satisfied: python-dateutil>=2.4 in c:\\users\\abobo8\\appdata\\local\\miniconda3\\envs\\myenv\\lib\\site-packages (from Faker) (2.9.0.post0)\n",
      "Requirement already satisfied: six>=1.5 in c:\\users\\abobo8\\appdata\\local\\miniconda3\\envs\\myenv\\lib\\site-packages (from python-dateutil>=2.4->Faker) (1.16.0)\n"
     ]
    }
   ],
   "source": [
    "!pip install Faker"
   ]
  },
  {
   "cell_type": "code",
   "execution_count": 148,
   "id": "e6339975-c53d-4b5c-b78c-8bd34386b435",
   "metadata": {},
   "outputs": [],
   "source": [
    "import pandas as pd\n",
    "import json\n",
    "from transformers import AutoModelForCausalLM, AutoTokenizer\n",
    "import torch\n",
    "import re\n",
    "from faker import Faker"
   ]
  },
  {
   "cell_type": "code",
   "execution_count": 149,
   "id": "c7952103-0f7c-4625-93ee-4c11e348315f",
   "metadata": {},
   "outputs": [],
   "source": [
    "# Initialize Faker\n",
    "fake = Faker()"
   ]
  },
  {
   "cell_type": "code",
   "execution_count": 150,
   "id": "ce81a4ba-abca-47ec-aba7-23ea9071a7f3",
   "metadata": {},
   "outputs": [],
   "source": [
    "# Load the model and tokenizer\n",
    "model_name = \"openai-community/gpt2\"  # You can choose other models from Hugging Face\n",
    "model = AutoModelForCausalLM.from_pretrained(model_name)\n",
    "tokenizer = AutoTokenizer.from_pretrained(model_name)"
   ]
  },
  {
   "cell_type": "code",
   "execution_count": 151,
   "id": "623438d3-e641-44d9-b41c-98a1acccd9b9",
   "metadata": {},
   "outputs": [],
   "source": [
    "#might need\n",
    "def open_file(filepath):\n",
    "    with open(filepath, 'r', encoding = 'utf-8') as infile:\n",
    "        return infile.read()\n",
    "\n",
    "def save_file(filepath, content):\n",
    "    with open(filepath, 'w', encoding = 'utf-8') as outfile:\n",
    "        outfile.write(content)"
   ]
  },
  {
   "cell_type": "code",
   "execution_count": 178,
   "id": "8cfa6921-9846-4bff-a418-c9979bd0f4d5",
   "metadata": {},
   "outputs": [],
   "source": [
    "def generate_synthetic_note(prompt, max_new_tokens=200, temperature=0.7):\n",
    "    inputs = tokenizer.encode(prompt, return_tensors=\"pt\", truncation=True, max_length=512)\n",
    "    \n",
    "    # Generate new tokens\n",
    "    outputs = model.generate(\n",
    "        inputs,\n",
    "        max_new_tokens=max_new_tokens,\n",
    "        temperature=temperature,\n",
    "        num_return_sequences=1,\n",
    "        pad_token_id=tokenizer.eos_token_id,\n",
    "        do_sample=True\n",
    "    )\n",
    "    \n",
    "    # Decode only the newly generated tokens\n",
    "    generated_text = tokenizer.decode(outputs[0][inputs.shape[-1]:], skip_special_tokens=True)\n",
    "    return generated_text.strip()"
   ]
  },
  {
   "cell_type": "code",
   "execution_count": 179,
   "id": "f1f17020-35cb-4248-997f-b8631376fe92",
   "metadata": {},
   "outputs": [],
   "source": [
    "def create_json_structure(note):\n",
    "    return {\n",
    "        \"messages\": [\n",
    "            {\n",
    "                \"role\": \"system\",\n",
    "                \"content\": \"You are useful and helpful chatbot that helps generate synthetic clinical notes when asked.\"\n",
    "            },\n",
    "            {\n",
    "                \"role\": \"user\",\n",
    "                \"content\": note\n",
    "            }\n",
    "        ]\n",
    "    }"
   ]
  },
  {
   "cell_type": "code",
   "execution_count": 180,
   "id": "f57cbcf2-4288-4dec-ac4a-518c031bc4c1",
   "metadata": {},
   "outputs": [],
   "source": [
    "def generate_dataset(num_examples=75):\n",
    "    dataset = []\n",
    "    prompt = open_file('amanispromp.txt')\n",
    "    \n",
    "    for _ in range(num_examples):\n",
    "        note = generate_synthetic_note(prompt)\n",
    "        json_structure = create_json_structure(note)\n",
    "        dataset.append(json_structure)\n",
    "    return dataset"
   ]
  },
  {
   "cell_type": "code",
   "execution_count": 181,
   "id": "abf2f819-c1c3-4c77-a8a5-ad651ca62673",
   "metadata": {},
   "outputs": [],
   "source": [
    "def save_dataset(dataset, filename='sdoh_dataset.jsonl'):\n",
    "    with open(filename, 'w') as f:\n",
    "        for item in dataset:\n",
    "            json.dump(item, f)\n",
    "            f.write('\\n\\n')"
   ]
  },
  {
   "cell_type": "code",
   "execution_count": 182,
   "id": "d3c3da16-0b6e-4086-8c85-034bb7684835",
   "metadata": {
    "scrolled": true
   },
   "outputs": [
    {
     "name": "stdout",
     "output_type": "stream",
     "text": [
      "Generated and saved synthetic SDOH notes to sdoh_dataset.jsonl\n",
      "\n",
      "Sample of generated data:\n",
      "{\n",
      "  \"messages\": [\n",
      "    {\n",
      "      \"role\": \"system\",\n",
      "      \"content\": \"You are useful and helpful chatbot that helps generate synthetic clinical notes when asked.\"\n",
      "    },\n",
      "    {\n",
      "      \"role\": \"user\",\n",
      "      \"content\": \"is a nurse.\\n\\n\\nPt is retired.\\n\\n\\nPersonal history records alcohol use, tobacco use, and\\n\\ndrug abuse. He is a former medical student in a private\\n\\nstudio.\\n\\n\\nFamily history records alcohol use, tobacco use, and\\n\\ndrug abuse. He is a former medical student in a privatestudio.\\n\\n\\nDr. Kavanagh, [**Hospital1 **] at [**Hospital1 **].  Does not have a doctorate.\\n\\n[**Hospital1 **] does not have a doctorate, and has never\\n\\nbeen diagnosed with any form of alcohol abuse.\\n\\n\\nFamily history records alcohol use, tobacco use, and\\n\\ndrug abuse. He is a former medical student in a privatestudio.\\n\\n\\nFamily history records alcohol use, tobacco use, and\\n\\ndrug abuse. He is a former medical student in a privatestudio.\\n\\n\\nFamily history records alcohol use,\"\n",
      "    }\n",
      "  ]\n",
      "}\n",
      "\n",
      "\n"
     ]
    }
   ],
   "source": [
    "# Generate and save the dataset\n",
    "dataset = generate_dataset(5)\n",
    "save_dataset(dataset)\n",
    "\n",
    "print(f\"Generated and saved synthetic SDOH notes to sdoh_dataset.jsonl\")\n",
    "\n",
    "# Print a sample of the generated data\n",
    "print(\"\\nSample of generated data:\")\n",
    "print(json.dumps(dataset[0], indent=2) + '\\n\\n')"
   ]
  },
  {
   "cell_type": "code",
   "execution_count": 183,
   "id": "5a456cb7-5d86-45de-957a-c69e50ab8c76",
   "metadata": {},
   "outputs": [
    {
     "data": {
      "text/html": [
       "<div>\n",
       "<style scoped>\n",
       "    .dataframe tbody tr th:only-of-type {\n",
       "        vertical-align: middle;\n",
       "    }\n",
       "\n",
       "    .dataframe tbody tr th {\n",
       "        vertical-align: top;\n",
       "    }\n",
       "\n",
       "    .dataframe thead th {\n",
       "        text-align: right;\n",
       "    }\n",
       "</style>\n",
       "<table border=\"1\" class=\"dataframe\">\n",
       "  <thead>\n",
       "    <tr style=\"text-align: right;\">\n",
       "      <th></th>\n",
       "      <th>text</th>\n",
       "    </tr>\n",
       "  </thead>\n",
       "  <tbody>\n",
       "    <tr>\n",
       "      <th>0</th>\n",
       "      <td>Admission Date:  [**2119-5-4**]              D...</td>\n",
       "    </tr>\n",
       "    <tr>\n",
       "      <th>1</th>\n",
       "      <td>Admission Date:  [**2124-7-21**]              ...</td>\n",
       "    </tr>\n",
       "    <tr>\n",
       "      <th>2</th>\n",
       "      <td>Admission Date:  [**2162-3-3**]              D...</td>\n",
       "    </tr>\n",
       "    <tr>\n",
       "      <th>3</th>\n",
       "      <td>Admission Date:  [**2172-3-5**]              D...</td>\n",
       "    </tr>\n",
       "    <tr>\n",
       "      <th>4</th>\n",
       "      <td>Admission Date:  [**2112-12-8**]              ...</td>\n",
       "    </tr>\n",
       "    <tr>\n",
       "      <th>5</th>\n",
       "      <td>Admission Date:  [**2150-2-25**]              ...</td>\n",
       "    </tr>\n",
       "    <tr>\n",
       "      <th>6</th>\n",
       "      <td>Admission Date:  [**2118-8-10**]              ...</td>\n",
       "    </tr>\n",
       "    <tr>\n",
       "      <th>7</th>\n",
       "      <td>Admission Date:  [**2118-12-7**]              ...</td>\n",
       "    </tr>\n",
       "    <tr>\n",
       "      <th>8</th>\n",
       "      <td>Admission Date:  [**2125-2-9**]              D...</td>\n",
       "    </tr>\n",
       "    <tr>\n",
       "      <th>9</th>\n",
       "      <td>Admission Date:  [**2192-4-19**]              ...</td>\n",
       "    </tr>\n",
       "    <tr>\n",
       "      <th>10</th>\n",
       "      <td>Admission Date:  [**2203-11-3**]              ...</td>\n",
       "    </tr>\n",
       "    <tr>\n",
       "      <th>11</th>\n",
       "      <td>Admission Date:  [**2194-7-18**]              ...</td>\n",
       "    </tr>\n",
       "    <tr>\n",
       "      <th>12</th>\n",
       "      <td>Admission Date:  [**2195-4-14**]              ...</td>\n",
       "    </tr>\n",
       "    <tr>\n",
       "      <th>13</th>\n",
       "      <td>Admission Date:  [**2130-2-3**]              D...</td>\n",
       "    </tr>\n",
       "    <tr>\n",
       "      <th>14</th>\n",
       "      <td>Admission Date:  [**2131-6-28**]              ...</td>\n",
       "    </tr>\n",
       "    <tr>\n",
       "      <th>15</th>\n",
       "      <td>Admission Date:  [**2131-7-5**]              D...</td>\n",
       "    </tr>\n",
       "    <tr>\n",
       "      <th>16</th>\n",
       "      <td>Admission Date:  [**2190-2-11**]              ...</td>\n",
       "    </tr>\n",
       "    <tr>\n",
       "      <th>17</th>\n",
       "      <td>Admission Date:  [**2105-4-16**]              ...</td>\n",
       "    </tr>\n",
       "    <tr>\n",
       "      <th>18</th>\n",
       "      <td>Admission Date:  [**2198-4-23**]              ...</td>\n",
       "    </tr>\n",
       "    <tr>\n",
       "      <th>19</th>\n",
       "      <td>Admission Date:  [**2127-7-21**]              ...</td>\n",
       "    </tr>\n",
       "    <tr>\n",
       "      <th>20</th>\n",
       "      <td>Admission Date:  [**2131-12-23**]             ...</td>\n",
       "    </tr>\n",
       "    <tr>\n",
       "      <th>21</th>\n",
       "      <td>Admission Date:  [**2188-5-9**]              D...</td>\n",
       "    </tr>\n",
       "    <tr>\n",
       "      <th>22</th>\n",
       "      <td>Admission Date:  [**2194-1-7**]              D...</td>\n",
       "    </tr>\n",
       "    <tr>\n",
       "      <th>23</th>\n",
       "      <td>Admission Date:  [**2170-9-1**]              D...</td>\n",
       "    </tr>\n",
       "    <tr>\n",
       "      <th>24</th>\n",
       "      <td>Admission Date:  [**2141-7-9**]              D...</td>\n",
       "    </tr>\n",
       "    <tr>\n",
       "      <th>25</th>\n",
       "      <td>Admission Date:  [**2143-11-22**]             ...</td>\n",
       "    </tr>\n",
       "    <tr>\n",
       "      <th>26</th>\n",
       "      <td>Admission Date:  [**2174-2-12**]              ...</td>\n",
       "    </tr>\n",
       "    <tr>\n",
       "      <th>27</th>\n",
       "      <td>Admission Date:  [**2145-11-30**]             ...</td>\n",
       "    </tr>\n",
       "    <tr>\n",
       "      <th>28</th>\n",
       "      <td>Admission Date:  [**2194-5-8**]              D...</td>\n",
       "    </tr>\n",
       "  </tbody>\n",
       "</table>\n",
       "</div>"
      ],
      "text/plain": [
       "                                                 text\n",
       "0   Admission Date:  [**2119-5-4**]              D...\n",
       "1   Admission Date:  [**2124-7-21**]              ...\n",
       "2   Admission Date:  [**2162-3-3**]              D...\n",
       "3   Admission Date:  [**2172-3-5**]              D...\n",
       "4   Admission Date:  [**2112-12-8**]              ...\n",
       "5   Admission Date:  [**2150-2-25**]              ...\n",
       "6   Admission Date:  [**2118-8-10**]              ...\n",
       "7   Admission Date:  [**2118-12-7**]              ...\n",
       "8   Admission Date:  [**2125-2-9**]              D...\n",
       "9   Admission Date:  [**2192-4-19**]              ...\n",
       "10  Admission Date:  [**2203-11-3**]              ...\n",
       "11  Admission Date:  [**2194-7-18**]              ...\n",
       "12  Admission Date:  [**2195-4-14**]              ...\n",
       "13  Admission Date:  [**2130-2-3**]              D...\n",
       "14  Admission Date:  [**2131-6-28**]              ...\n",
       "15  Admission Date:  [**2131-7-5**]              D...\n",
       "16  Admission Date:  [**2190-2-11**]              ...\n",
       "17  Admission Date:  [**2105-4-16**]              ...\n",
       "18  Admission Date:  [**2198-4-23**]              ...\n",
       "19  Admission Date:  [**2127-7-21**]              ...\n",
       "20  Admission Date:  [**2131-12-23**]             ...\n",
       "21  Admission Date:  [**2188-5-9**]              D...\n",
       "22  Admission Date:  [**2194-1-7**]              D...\n",
       "23  Admission Date:  [**2170-9-1**]              D...\n",
       "24  Admission Date:  [**2141-7-9**]              D...\n",
       "25  Admission Date:  [**2143-11-22**]             ...\n",
       "26  Admission Date:  [**2174-2-12**]              ...\n",
       "27  Admission Date:  [**2145-11-30**]             ...\n",
       "28  Admission Date:  [**2194-5-8**]              D..."
      ]
     },
     "execution_count": 183,
     "metadata": {},
     "output_type": "execute_result"
    }
   ],
   "source": [
    "notee = pd.read_csv(\"brokendown.csv\")\n",
    "notee"
   ]
  },
  {
   "cell_type": "code",
   "execution_count": 184,
   "id": "ba6c2f02-55a8-44c1-af3a-78410f0d18c4",
   "metadata": {},
   "outputs": [
    {
     "name": "stderr",
     "output_type": "stream",
     "text": [
      "<>:2: SyntaxWarning: invalid escape sequence '\\['\n",
      "<>:2: SyntaxWarning: invalid escape sequence '\\['\n",
      "C:\\Users\\abobo8\\AppData\\Local\\Temp\\1\\ipykernel_3728\\3386246862.py:2: SyntaxWarning: invalid escape sequence '\\['\n",
      "  \"\"\"\n"
     ]
    },
    {
     "data": {
      "text/plain": [
       "'\\ndef replace_deidentified_chunks(text):\\n    # Define patterns to match\\n    patterns = {\\n        r\\'\\\\[**Name \\\\(NI\\\\) **\\\\]\\': fake.name,\\n        r\\'\\\\[**Hospital\\\\d+ **\\\\]\\': lambda: fake.company() + \" Hospital\",\\n        r\\'\\\\[**Last Name \\\\(NamePattern\\\\d+\\\\) \\\\d+**\\\\]\\': fake.last_name,\\n        r\\'\\\\[**First Name\\\\d+ \\\\(NamePattern\\\\d+\\\\) \\\\d+**\\\\]\\': fake.first_name,\\n        r\\'\\\\[**Country \\\\d+**\\\\]\\': fake.country,\\n        r\\'\\\\[**State \\\\d+**\\\\]\\': fake.state,\\n        r\\'\\\\[**Location \\\\(un\\\\) \\\\d+**\\\\]\\': fake.city,\\n        r\\'\\\\[**Company \\\\d+**\\\\]\\': fake.company,\\n        r\\'\\\\[**\\\\d{1,2}-\\\\d{1,2}**\\\\]\\': lambda: f\"[**{fake.date(pattern=\\'%m-%d\\')}**]\",\\n        r\\'\\\\[**Month \\\\(only\\\\) **\\\\]\\': fake.month_name,\\n        r\\'\\\\[**\\\\d{4}**\\\\]\\': lambda: f\"[**{fake.year()}**]\"\\n    }\\n    \\n    for pattern, replacement_func in patterns.items():\\n        text = re.sub(pattern, lambda _: replacement_func(), text)\\n    \\n    return text\\n'"
      ]
     },
     "execution_count": 184,
     "metadata": {},
     "output_type": "execute_result"
    }
   ],
   "source": [
    "#Faker Replacement Stuff\n",
    "\"\"\"\n",
    "def replace_deidentified_chunks(text):\n",
    "    # Define patterns to match\n",
    "    patterns = {\n",
    "        r'\\[**Name \\(NI\\) **\\]': fake.name,\n",
    "        r'\\[**Hospital\\d+ **\\]': lambda: fake.company() + \" Hospital\",\n",
    "        r'\\[**Last Name \\(NamePattern\\d+\\) \\d+**\\]': fake.last_name,\n",
    "        r'\\[**First Name\\d+ \\(NamePattern\\d+\\) \\d+**\\]': fake.first_name,\n",
    "        r'\\[**Country \\d+**\\]': fake.country,\n",
    "        r'\\[**State \\d+**\\]': fake.state,\n",
    "        r'\\[**Location \\(un\\) \\d+**\\]': fake.city,\n",
    "        r'\\[**Company \\d+**\\]': fake.company,\n",
    "        r'\\[**\\d{1,2}-\\d{1,2}**\\]': lambda: f\"[**{fake.date(pattern='%m-%d')}**]\",\n",
    "        r'\\[**Month \\(only\\) **\\]': fake.month_name,\n",
    "        r'\\[**\\d{4}**\\]': lambda: f\"[**{fake.year()}**]\"\n",
    "    }\n",
    "    \n",
    "    for pattern, replacement_func in patterns.items():\n",
    "        text = re.sub(pattern, lambda _: replacement_func(), text)\n",
    "    \n",
    "    return text\n",
    "\"\"\""
   ]
  },
  {
   "cell_type": "code",
   "execution_count": 185,
   "id": "36a9ffef-2ccd-4c1b-9204-a796e5cccadf",
   "metadata": {},
   "outputs": [],
   "source": [
    "oldset = open_file('sdoh_dataset.jsonl')"
   ]
  },
  {
   "cell_type": "code",
   "execution_count": 186,
   "id": "6109cc12-7a38-453d-870f-1cb3d809fcc1",
   "metadata": {},
   "outputs": [
    {
     "name": "stdout",
     "output_type": "stream",
     "text": [
      "{\"messages\": [{\"role\": \"system\", \"content\": \"You are useful and helpful chatbot that helps generate synthetic clinical notes when asked.\"}, {\"role\": \"user\", \"content\": \"is a nurse.\\n\\n\\nPt is retired.\\n\\n\\nPersonal history records alcohol use, tobacco use, and\\n\\ndrug abuse. He is a former medical student in a private\\n\\nstudio.\\n\\n\\nFamily history records alcohol use, tobacco use, and\\n\\ndrug abuse. He is a former medical student in a privatestudio.\\n\\n\\nDr. Kavanagh, [**Hospital1 **] at [**Hospital1 **].  Does not have a doctorate.\\n\\n[**Hospital1 **] does not have a doctorate, and has never\\n\\nbeen diagnosed with any form of alcohol abuse.\\n\\n\\nFamily history records alcohol use, tobacco use, and\\n\\ndrug abuse. He is a former medical student in a privatestudio.\\n\\n\\nFamily history records alcohol use, tobacco use, and\\n\\ndrug abuse. He is a former medical student in a privatestudio.\\n\\n\\nFamily history records alcohol use,\"}]}\n",
      "\n",
      "{\"messages\": [{\"role\": \"system\", \"content\": \"You are useful and helpful chatbot that helps generate synthetic clinical notes when asked.\"}, {\"role\": \"user\", \"content\": \"is employed as a psychiatrist.\\n\\n\\n[**Hospital1 **] has been active with the patient for the past 18 months. \\n\\nHe has three children, the youngest of whom is now 12. \\n\\nThis is a very young patient.  The patient has been\\n\\ninvolved in various\\n\\ncouncils and has received numerous \\\"treatment\\\" sessions with\\n\\nthe family doctor. \\n\\nHe recently received a treatment\\n\\nexemption for \\\"affording\\\" the family\\n\\na \\\"medical\\\" exemption to a medical\\n\\ndiagnosis. \\n\\nHe is also in intensive care.\\n\\n\\n[**Hospital1 **] has a history of\\n\\nother substance use and\\n\\ndrug use.\\n\\n\\n[**Hospital1 **] is a registered nurse with a\\n\\ncare facility (e.g.,\\n\\nUniversity of Western\\n\\nMissoula [**University of\\n\\nSouthwestern\\n\\nMissoul\"}]}\n",
      "\n",
      "{\"messages\": [{\"role\": \"system\", \"content\": \"You are useful and helpful chatbot that helps generate synthetic clinical notes when asked.\"}, {\"role\": \"user\", \"content\": \"has\\n\\na sister.  He has a partner, married, with a child.\\n\\nHe has three children.\\n\\nHe has a family member who has been sober since he was 3 years old.\\n\\nHe has a friend who has been sober since he started\\n\\nliving with him. \\n\\nHis family is now living with him. \\n\\nHe has a sister and a friend who have been sober since\\n\\nhe started living with him. \\n\\nHe has a brother and a relative who have been sober since\\n\\nhe started living with him. \\n\\nHe has a brother and a relative who have been sober since\\n\\nthey were 3 years old. \\n\\nHe has a relative who has been sober since he started living with\\n\\nhim. \\n\\n\\nHis social history is significant.  He is a former student of [**Hospital1 **]. He was\\n\\na graduate student at [**Country 532**].\"}]}\n",
      "\n",
      "{\"messages\": [{\"role\": \"system\", \"content\": \"You are useful and helpful chatbot that helps generate synthetic clinical notes when asked.\"}, {\"role\": \"user\", \"content\": \"is a father. [**Hospital1 **] denies tobacco use due to\\n\\nhis alcoholism. [**Hospital1 **] denies any alcohol or tobacco use\\n\\ndue to his alcoholism. [**City of **] denies any current\\n\\ndrug use due to his alcoholism. [**Country of **] denies any\\n\\ncurrent drug use because of alcohol or tobacco use. [**Country of **] denies any current\\n\\ndrug use due to alcohol or tobacco use.\\\"]\\n\\n\\nThe patient has been given a social history\\n\\nnote. First note describes the family he has. The note describes that the family\\n\\nsuffered from alcoholism, schizophrenia, and substance abuse.\\n\\nThe note states that the family is\\n\\nin a state of constant emotional turmoil and isolation.\\n\\n\\nThe note is signed by the patient's physician.\\n\\n[**Country of **] records the family's past employment and\\n\\nother current drug use. The note\"}]}\n",
      "\n",
      "{\"messages\": [{\"role\": \"system\", \"content\": \"You are useful and helpful chatbot that helps generate synthetic clinical notes when asked.\"}, {\"role\": \"user\", \"content\": \"has\\n\\na 1 year old child.\\n\\n[**Family **] has a 1 year old child and 3 grandchildren. \\n\\nPt\\n\\nPt\\n\\nPt\\n\\nPt\\n\\nPt\\n\\nPt\\n\\nPt\\n\\nPt\\n\\nPt\\n\\nPt\\n\\nPt\\n\\nPt\\n\\nPt\\n\\nPt\\n\\nPt\\n\\nPt\\n\\nPt\\n\\nPt\\n\\nPt\\n\\nPt\\n\\nPt\\n\\nPt\\n\\nPt\\n\\nPt\\n\\nPt\\n\\nPt\\n\\nPt\\n\\nPt\\n\\nPt\\n\\nPt\\n\\nPt\\n\\nPt\\n\\nPt\\n\\nPt\\n\\nPt\\n\\nPt\\n\\nPt\\n\\nPt\\n\\nPt\\n\\nPt\\n\\nPt\\n\\nPt\\n\\nPt\"}]}\n",
      "\n",
      "\n",
      "{\"messages\": [{\"role\": \"system\", \"content\": \"You are useful and helpful chatbot that helps generate synthetic clinical notes when asked.\"}, {\"role\": \"user\", \"content\": \"is a nurse.\\n\\n\\nPt is retired.\\n\\n\\nPersonal history records alcohol use, tobacco use, and\\n\\ndrug abuse. He is a former medical student in a private\\n\\nstudio.\\n\\n\\nFamily history records alcohol use, tobacco use, and\\n\\ndrug abuse. He is a former medical student in a privatestudio.\\n\\n\\nDr. Kavanagh, [**Hospital1 **] at [**Hospital1 **].  Does not have a doctorate.\\n\\n[**Hospital1 **] does not have a doctorate, and has never\\n\\nbeen diagnosed with any form of alcohol abuse.\\n\\n\\nFamily history records alcohol use, tobacco use, and\\n\\ndrug abuse. He is a former medical student in a privatestudio.\\n\\n\\nFamily history records alcohol use, tobacco use, and\\n\\ndrug abuse. He is a former medical student in a privatestudio.\\n\\n\\nFamily history records alcohol use,\"}]}\n",
      "\n",
      "{\"messages\": [{\"role\": \"system\", \"content\": \"You are useful and helpful chatbot that helps generate synthetic clinical notes when asked.\"}, {\"role\": \"user\", \"content\": \"is employed as a psychiatrist.\\n\\n\\n[**Hospital1 **] has been active with the patient for the past 18 months. \\n\\nHe has three children, the youngest of whom is now 12. \\n\\nThis is a very young patient.  The patient has been\\n\\ninvolved in various\\n\\ncouncils and has received numerous \\\"treatment\\\" sessions with\\n\\nthe family doctor. \\n\\nHe recently received a treatment\\n\\nexemption for \\\"affording\\\" the family\\n\\na \\\"medical\\\" exemption to a medical\\n\\ndiagnosis. \\n\\nHe is also in intensive care.\\n\\n\\n[**Hospital1 **] has a history of\\n\\nother substance use and\\n\\ndrug use.\\n\\n\\n[**Hospital1 **] is a registered nurse with a\\n\\ncare facility (e.g.,\\n\\nUniversity of Western\\n\\nMissoula [**University of\\n\\nSouthwestern\\n\\nMissoul\"}]}\n",
      "\n",
      "{\"messages\": [{\"role\": \"system\", \"content\": \"You are useful and helpful chatbot that helps generate synthetic clinical notes when asked.\"}, {\"role\": \"user\", \"content\": \"has\\n\\na sister.  He has a partner, married, with a child.\\n\\nHe has three children.\\n\\nHe has a family member who has been sober since he was 3 years old.\\n\\nHe has a friend who has been sober since he started\\n\\nliving with him. \\n\\nHis family is now living with him. \\n\\nHe has a sister and a friend who have been sober since\\n\\nhe started living with him. \\n\\nHe has a brother and a relative who have been sober since\\n\\nhe started living with him. \\n\\nHe has a brother and a relative who have been sober since\\n\\nthey were 3 years old. \\n\\nHe has a relative who has been sober since he started living with\\n\\nhim. \\n\\n\\nHis social history is significant.  He is a former student of [**Hospital1 **]. He was\\n\\na graduate student at <COUNTRY UNKNOWN>.\"}]}\n",
      "\n",
      "{\"messages\": [{\"role\": \"system\", \"content\": \"You are useful and helpful chatbot that helps generate synthetic clinical notes when asked.\"}, {\"role\": \"user\", \"content\": \"is a father. [**Hospital1 **] denies tobacco use due to\\n\\nhis alcoholism. [**Hospital1 **] denies any alcohol or tobacco use\\n\\ndue to his alcoholism. [**City of **] denies any current\\n\\ndrug use due to his alcoholism. [**Country of **] denies any\\n\\ncurrent drug use because of alcohol or tobacco use. [**Country of **] denies any current\\n\\ndrug use due to alcohol or tobacco use.\\\"]\\n\\n\\nThe patient has been given a social history\\n\\nnote. First note describes the family he has. The note describes that the family\\n\\nsuffered from alcoholism, schizophrenia, and substance abuse.\\n\\nThe note states that the family is\\n\\nin a state of constant emotional turmoil and isolation.\\n\\n\\nThe note is signed by the patient's physician.\\n\\n[**Country of **] records the family's past employment and\\n\\nother current drug use. The note\"}]}\n",
      "\n",
      "{\"messages\": [{\"role\": \"system\", \"content\": \"You are useful and helpful chatbot that helps generate synthetic clinical notes when asked.\"}, {\"role\": \"user\", \"content\": \"has\\n\\na 1 year old child.\\n\\n[**Family **] has a 1 year old child and 3 grandchildren. \\n\\nPt\\n\\nPt\\n\\nPt\\n\\nPt\\n\\nPt\\n\\nPt\\n\\nPt\\n\\nPt\\n\\nPt\\n\\nPt\\n\\nPt\\n\\nPt\\n\\nPt\\n\\nPt\\n\\nPt\\n\\nPt\\n\\nPt\\n\\nPt\\n\\nPt\\n\\nPt\\n\\nPt\\n\\nPt\\n\\nPt\\n\\nPt\\n\\nPt\\n\\nPt\\n\\nPt\\n\\nPt\\n\\nPt\\n\\nPt\\n\\nPt\\n\\nPt\\n\\nPt\\n\\nPt\\n\\nPt\\n\\nPt\\n\\nPt\\n\\nPt\\n\\nPt\\n\\nPt\\n\\nPt\\n\\nPt\\n\\nPt\"}]}\n",
      "\n",
      "\n"
     ]
    }
   ],
   "source": [
    "#replacemethod = oldset.replace(\"[**Name (NI) **]\", fake.name())\n",
    "\n",
    "print(oldset)\n",
    "\n",
    "\n",
    "patterns_replacements = [\n",
    "    (r'\\[\\*\\*Hospital2 \\*\\*\\]', '<HOSPITAL UNKNOWN>'),\n",
    "    (r'\\[\\*\\*Country \\d+\\*\\*\\]', '<COUNTRY UNKNOWN>'),\n",
    "    (r'\\[\\*\\*Name \\(NI\\) \\*\\*\\]', '<NAME UNKNOWN>'),\n",
    "    (r'\\[\\*\\*known firstname \\*\\*\\]', '<KNOWN FIRSTNAME>'),\n",
    "    (r'\\[\\*\\*last name \\(namepattern1\\) \\d+\\*\\*\\]', '<LASTNAME UNKNOWN>'),\n",
    "    (r'\\[\\*\\*first name8 \\(namepattern2\\) \\d+\\*\\*\\]', '<FIRSTNAME UNKNOWN>'),\n",
    "    (r'\\[\\*\\*last name \\(namepattern1\\) \\*\\*\\]', '<LASTNAME UNKNOWN>'),\n",
    "    (r'\\[\\*\\*\\d+\\*\\*\\]', '<NUMBER UNKNOWN>'),\n",
    "    (r'\\[\\*\\*Initials \\(NamePattern4\\) \\*\\*\\]', '<INITIALS UNKNOWN>'),\n",
    "    (r'\\[\\*\\*Last Name \\(NamePattern4\\) \\*\\*\\]', '<LASTNAME UNKNOWN>'),\n",
    "    (r'\\[\\*\\*Company \\d+\\*\\*\\]', '<COMPANY UNKNOWN>'),\n",
    "    (r'\\[\\*\\*Month \\(only\\) \\*\\*\\]', '<MONTH UNKNOWN>'),\n",
    "    (r'\\[\\*\\*Doctor Last Name \\*\\*\\]-\\[\\*\\*Doctor Last Name \\*\\*\\]', '<DOCTOR LAST NAME UNKNOWN>-<DOCTOR LAST NAME UNKNOWN>'),\n",
    "    (r'\\[\\*\\*Location \\(un\\) \\d+\\*\\*\\]', '<LOCATION UNKNOWN>'),\n",
    "    (r'\\[\\*\\*Place of Living \\*\\*\\]', '<PLACE OF LIVING UNKNOWN>')\n",
    "]\n",
    "\n",
    "text = oldset\n",
    "\n",
    "\n",
    "for pattern, replacement in patterns_replacements:\n",
    "    text = re.sub(pattern, replacement, text)\n",
    "\n",
    "print(text)\n"
   ]
  },
  {
   "cell_type": "code",
   "execution_count": null,
   "id": "08218f9b-513e-492c-8a7b-7e5655278c68",
   "metadata": {},
   "outputs": [],
   "source": []
  },
  {
   "cell_type": "code",
   "execution_count": null,
   "id": "c8d8433c-9409-4064-a140-82dcbe4a5abd",
   "metadata": {},
   "outputs": [],
   "source": []
  }
 ],
 "metadata": {
  "kernelspec": {
   "display_name": "Python 3 (ipykernel)",
   "language": "python",
   "name": "python3"
  },
  "language_info": {
   "codemirror_mode": {
    "name": "ipython",
    "version": 3
   },
   "file_extension": ".py",
   "mimetype": "text/x-python",
   "name": "python",
   "nbconvert_exporter": "python",
   "pygments_lexer": "ipython3",
   "version": "3.12.3"
  }
 },
 "nbformat": 4,
 "nbformat_minor": 5
}
