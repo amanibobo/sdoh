{
 "cells": [
  {
   "cell_type": "code",
   "execution_count": 29,
   "id": "f131663a-6756-4a0b-99c6-2520953edf35",
   "metadata": {},
   "outputs": [
    {
     "name": "stdout",
     "output_type": "stream",
     "text": [
      "Requirement already satisfied: transformers in c:\\users\\abobo8\\appdata\\local\\miniconda3\\envs\\myenv\\lib\\site-packages (4.41.2)\n",
      "Requirement already satisfied: filelock in c:\\users\\abobo8\\appdata\\local\\miniconda3\\envs\\myenv\\lib\\site-packages (from transformers) (3.15.1)\n",
      "Requirement already satisfied: huggingface-hub<1.0,>=0.23.0 in c:\\users\\abobo8\\appdata\\local\\miniconda3\\envs\\myenv\\lib\\site-packages (from transformers) (0.23.4)\n",
      "Requirement already satisfied: numpy>=1.17 in c:\\users\\abobo8\\appdata\\local\\miniconda3\\envs\\myenv\\lib\\site-packages (from transformers) (1.26.4)\n",
      "Requirement already satisfied: packaging>=20.0 in c:\\users\\abobo8\\appdata\\local\\miniconda3\\envs\\myenv\\lib\\site-packages (from transformers) (23.2)\n",
      "Requirement already satisfied: pyyaml>=5.1 in c:\\users\\abobo8\\appdata\\local\\miniconda3\\envs\\myenv\\lib\\site-packages (from transformers) (6.0.1)\n",
      "Requirement already satisfied: regex!=2019.12.17 in c:\\users\\abobo8\\appdata\\local\\miniconda3\\envs\\myenv\\lib\\site-packages (from transformers) (2024.5.15)\n",
      "Requirement already satisfied: requests in c:\\users\\abobo8\\appdata\\local\\miniconda3\\envs\\myenv\\lib\\site-packages (from transformers) (2.32.2)\n",
      "Requirement already satisfied: tokenizers<0.20,>=0.19 in c:\\users\\abobo8\\appdata\\local\\miniconda3\\envs\\myenv\\lib\\site-packages (from transformers) (0.19.1)\n",
      "Requirement already satisfied: safetensors>=0.4.1 in c:\\users\\abobo8\\appdata\\local\\miniconda3\\envs\\myenv\\lib\\site-packages (from transformers) (0.4.3)\n",
      "Requirement already satisfied: tqdm>=4.27 in c:\\users\\abobo8\\appdata\\local\\miniconda3\\envs\\myenv\\lib\\site-packages (from transformers) (4.66.4)\n",
      "Requirement already satisfied: fsspec>=2023.5.0 in c:\\users\\abobo8\\appdata\\local\\miniconda3\\envs\\myenv\\lib\\site-packages (from huggingface-hub<1.0,>=0.23.0->transformers) (2024.6.0)\n",
      "Requirement already satisfied: typing-extensions>=3.7.4.3 in c:\\users\\abobo8\\appdata\\local\\miniconda3\\envs\\myenv\\lib\\site-packages (from huggingface-hub<1.0,>=0.23.0->transformers) (4.11.0)\n",
      "Requirement already satisfied: colorama in c:\\users\\abobo8\\appdata\\local\\miniconda3\\envs\\myenv\\lib\\site-packages (from tqdm>=4.27->transformers) (0.4.6)\n",
      "Requirement already satisfied: charset-normalizer<4,>=2 in c:\\users\\abobo8\\appdata\\local\\miniconda3\\envs\\myenv\\lib\\site-packages (from requests->transformers) (2.0.4)\n",
      "Requirement already satisfied: idna<4,>=2.5 in c:\\users\\abobo8\\appdata\\local\\miniconda3\\envs\\myenv\\lib\\site-packages (from requests->transformers) (3.7)\n",
      "Requirement already satisfied: urllib3<3,>=1.21.1 in c:\\users\\abobo8\\appdata\\local\\miniconda3\\envs\\myenv\\lib\\site-packages (from requests->transformers) (2.2.1)\n",
      "Requirement already satisfied: certifi>=2017.4.17 in c:\\users\\abobo8\\appdata\\local\\miniconda3\\envs\\myenv\\lib\\site-packages (from requests->transformers) (2024.6.2)\n"
     ]
    }
   ],
   "source": [
    "!pip install transformers"
   ]
  },
  {
   "cell_type": "code",
   "execution_count": 30,
   "id": "8691cd6b-38e4-4d19-9848-d9e3fb3ea9ca",
   "metadata": {},
   "outputs": [],
   "source": [
    "import json\n",
    "import os\n",
    "import json"
   ]
  },
  {
   "cell_type": "code",
   "execution_count": 31,
   "id": "19698a7b-0d04-476e-b3fd-2100110e3b68",
   "metadata": {},
   "outputs": [],
   "source": [
    "if not os.path.exists('responses'):\n",
    "    os.mkdir('responses')"
   ]
  },
  {
   "cell_type": "code",
   "execution_count": 38,
   "id": "10293ab2-c542-4528-933a-60ddf98813dc",
   "metadata": {},
   "outputs": [],
   "source": [
    "def open_file(filepath):\n",
    "    with open(filepath, 'r', encoding = 'utf-8') as infile:\n",
    "        return infile.read()"
   ]
  },
  {
   "cell_type": "code",
   "execution_count": 39,
   "id": "b2ba0c86-91be-41fc-822f-68704ba86b93",
   "metadata": {},
   "outputs": [],
   "source": [
    "def save_file(filepath, content):\n",
    "    with open(filepath, 'w', encoding = 'utf-8') as outfile:\n",
    "        outfile.write(content)"
   ]
  },
  {
   "cell_type": "code",
   "execution_count": 51,
   "id": "8c4a3034-a830-4b07-aa99-73635e9e1b8c",
   "metadata": {},
   "outputs": [],
   "source": [
    "task = open_file('task.txt')\n",
    "base_solver = open_file('prompt1.txt')\n",
    "chatbot_prompt = open_file('sysprompt.txt')"
   ]
  },
  {
   "cell_type": "code",
   "execution_count": 56,
   "id": "d87904e0-c2e7-435d-ad69-ab2de3e9f071",
   "metadata": {},
   "outputs": [
    {
     "name": "stdout",
     "output_type": "stream",
     "text": [
      "Saved example 1 to responses/schema.jsonl\n",
      "Saved example 2 to responses/schema.jsonl\n",
      "Saved example 3 to responses/schema.jsonl\n",
      "Saved example 4 to responses/schema.jsonl\n"
     ]
    }
   ],
   "source": [
    "from transformers import AutoModelForCausalLM, AutoTokenizer\n",
    "import torch\n",
    "\n",
    "# Load the model and tokenizer\n",
    "model_name = \"openai-community/gpt2\"  # You can choose other models from Hugging Face\n",
    "model = AutoModelForCausalLM.from_pretrained(model_name)\n",
    "tokenizer = AutoTokenizer.from_pretrained(model_name)\n",
    "\n",
    "# Function to generate text using Hugging Face model\n",
    "def generate_text(prompt, temperature=0.7, max_length=512, max_new_tokens=50):\n",
    "    inputs = tokenizer(prompt, return_tensors=\"pt\", truncation=True, max_length=max_length)\n",
    "    outputs = model.generate(\n",
    "        inputs[\"input_ids\"],\n",
    "        max_new_tokens=max_new_tokens,\n",
    "        temperature=temperature,\n",
    "        pad_token_id=tokenizer.eos_token_id\n",
    "    )\n",
    "    return tokenizer.decode(outputs[0], skip_special_tokens=True)\n",
    "\n",
    "# Function to handle long texts by splitting into manageable chunks\n",
    "def generate_text_in_chunks(prompt, temperature=0.7, chunk_size=512, max_new_tokens=50):\n",
    "    # Tokenize the prompt and get input_ids\n",
    "    inputs = tokenizer(prompt, return_tensors=\"pt\", truncation=True, max_length=chunk_size)\n",
    "    input_ids = inputs[\"input_ids\"][0]\n",
    "\n",
    "    # Split the input_ids into chunks of chunk_size tokens\n",
    "    input_chunks = [input_ids[i:i + chunk_size] for i in range(0, len(input_ids), chunk_size)]\n",
    "    generated_text = \"\"\n",
    "\n",
    "    for chunk in input_chunks:\n",
    "        # Convert chunk back to text\n",
    "        chunk_text = tokenizer.decode(chunk, skip_special_tokens=True)\n",
    "        # Generate text for each chunk\n",
    "        generated_chunk_text = generate_text(chunk_text, temperature=temperature, max_length=chunk_size, max_new_tokens=max_new_tokens)\n",
    "        generated_text += generated_chunk_text\n",
    "\n",
    "    return generated_text\n",
    "\n",
    "# Function to simulate chatgpt\n",
    "def chatgpt(nconversation, chatbot_prompt, solver, temperature=0.7):\n",
    "    nconversation.append({\"role\": \"user\", \"content\": solver})\n",
    "    messages_input = nconversation.copy()\n",
    "    prompty = [{\"role\": \"system\", \"content\": chatbot_prompt}]\n",
    "    messages_input.insert(0, prompty[0])\n",
    "\n",
    "    prompt = \"\\n\".join([message['content'] for message in messages_input])\n",
    "    chat_response = generate_text(prompt, temperature=temperature)\n",
    "    nconversation.append({\"role\": \"assistant\", \"content\": chat_response})\n",
    "\n",
    "    return chat_response\n",
    "\n",
    "# Example usage\n",
    "jsonl_file = \"responses/schema.jsonl\"\n",
    "num_loops = 4\n",
    "conversation = []\n",
    "nconversation = list(conversation)  # Initialize conversation list\n",
    "\n",
    "for i in range(num_loops):\n",
    "    prob1 = chatgpt(nconversation, chatbot_prompt, note)\n",
    "    solver = base_solver.replace(\"<<NOTES>>\", prob1)\n",
    "    response = chatgpt(nconversation, chatbot_prompt, solver)\n",
    "\n",
    "    json_obj = {\n",
    "        \"messages\": [\n",
    "            {\"role\": \"system\", \"content\": chatbot_prompt},\n",
    "            {\"role\": \"user\", \"content\": prob1},\n",
    "            {\"role\": \"assistant\", \"content\": response}\n",
    "        ]\n",
    "    }\n",
    "\n",
    "    with open(jsonl_file, 'a') as f:\n",
    "        f.write(json.dumps(json_obj) + '\\n\\n')\n",
    "\n",
    "    print(f\"Saved example {i+1} to {jsonl_file}\")\n",
    "\n",
    "    nconversation.clear()\n",
    "    \n"
   ]
  },
  {
   "cell_type": "code",
   "execution_count": 57,
   "id": "ff7877a1-9d35-4106-8844-73d4a5d81b1c",
   "metadata": {},
   "outputs": [
    {
     "name": "stdout",
     "output_type": "stream",
     "text": [
      "CLINICAL NOTE:\n",
      "\n",
      "You are a Healthcare Official Chatbot involved in the Protected Health Information that list out different situations of patients social history/sdoh.\n",
      "Your task is to Use the structure of the data below as an example, create 2 new data examples of {NOTES}, putting each example on a new line in a table that I can easily copy. you must maintain the structure of the examples below. Every example must have the line ”messages”:\n",
      "[{”role”: ”system”, ”content”: “You are a Healthcare Official Chatbot involved in the Protected Health Information that list out different situations of patients social history/sdoh.” Keep Certain important elements like years, months, names, states, citys, countrys and so on should be de-identified if not already. Create new examples for the user content.\n",
      "\n",
      "Here are some examples of how the notes should look when generated:\n",
      "\n",
      "{”messages”:\n",
      "[{”role”: ”system”, ”content”: “You are a Healthcare Official Chatbot involved in the Protected Health Information that list out different situations of patients social history/sdoh.”},\n",
      "{”role”: “user”, “content”: “Patient recently discharged from [**Hospital1 **] for severe\n",
      "depression. Family reports patient was very sad and attempted to\n",
      "kill himself by wrapping a telephone cord around his neck. Lives\n",
      "with his elderly wife, worked as a chemist in [**Country 532**].”}]\n",
      "}\n",
      "\n",
      "{”messages”:\n",
      "[{”role”: ”system”, ”content”: “You are a Healthcare Official Chatbot involved in the Protected Health Information that list out different situations of patients social history/sdoh.”},\n",
      "{”role”: “user”, “content”: “lives with his wife at home.  He has 1-2 drinks a night and\n",
      "denies any illicit drug use.  He quit smoking in [**2168**], but has a\n",
      "30 pack year history.”}]\n",
      "}\n",
      "\n",
      "{”messages”:\n",
      "[{”role”: ”system”, ”content”: “You are a Healthcare Official Chatbot involved in the Protected Health Information that list out different situations of patients social history/sdoh.”},\n",
      "\n",
      "{”role”: “user”, �\n",
      "\n",
      "Your task is to generate notes that use similar structure and make sure to focus on social history/sdoh relevant data.\n"
     ]
    }
   ],
   "source": [
    "print(solver)"
   ]
  },
  {
   "cell_type": "code",
   "execution_count": null,
   "id": "fb7b434f-5600-4217-bc18-423e8514d9ef",
   "metadata": {},
   "outputs": [],
   "source": []
  },
  {
   "cell_type": "code",
   "execution_count": null,
   "id": "357e0a1a-1809-49ee-a385-760978ba8d03",
   "metadata": {},
   "outputs": [],
   "source": []
  }
 ],
 "metadata": {
  "kernelspec": {
   "display_name": "Python 3 (ipykernel)",
   "language": "python",
   "name": "python3"
  },
  "language_info": {
   "codemirror_mode": {
    "name": "ipython",
    "version": 3
   },
   "file_extension": ".py",
   "mimetype": "text/x-python",
   "name": "python",
   "nbconvert_exporter": "python",
   "pygments_lexer": "ipython3",
   "version": "3.12.3"
  }
 },
 "nbformat": 4,
 "nbformat_minor": 5
}
